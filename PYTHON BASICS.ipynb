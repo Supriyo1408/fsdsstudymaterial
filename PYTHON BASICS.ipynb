{
 "cells": [
  {
   "cell_type": "code",
   "execution_count": 6,
   "id": "7739d39b-61b3-4b75-8a0b-baba0402a0eb",
   "metadata": {},
   "outputs": [
    {
     "name": "stdout",
     "output_type": "stream",
     "text": [
      "The value of x after swapping: 25\n",
      "The value of y after swapping: 20\n"
     ]
    }
   ],
   "source": [
    "# Python program to swap two variables\n",
    "\n",
    "x = 20\n",
    "y = 25\n",
    "\n",
    "# To make inputs from the user\n",
    "#x = input('Enter the value of x: ')\n",
    "#y = input('Enter the value of y: ')\n",
    "\n",
    "#create a temporary variable and swap the values\n",
    "temp = x\n",
    "x = y\n",
    "y = temp\n",
    "\n",
    "print('The value of x after swapping: {}'.format(x))\n",
    "print('The value of y after swapping: {}'.format(y))\n"
   ]
  },
  {
   "cell_type": "code",
   "execution_count": 4,
   "id": "644b3e68-ef51-48db-88d5-131b906f4fee",
   "metadata": {},
   "outputs": [
    {
     "name": "stdin",
     "output_type": "stream",
     "text": [
      "Please Enter the Width of a Rectangle:  10\n",
      "Please Enter the Height of a Rectangle:  55\n"
     ]
    },
    {
     "name": "stdout",
     "output_type": "stream",
     "text": [
      "\n",
      " Area of a Rectangle is: 550.00\n"
     ]
    }
   ],
   "source": [
    "# Write a Program to find the Area of a Rectangle\n",
    "\n",
    "w = float(input('Please Enter the Width of a Rectangle: '))\n",
    "h = float(input('Please Enter the Height of a Rectangle: '))\n",
    "\n",
    "# calculate the area\n",
    "Area = w * h\n",
    "\n",
    "print(\"\\n Area of a Rectangle is: %.2f\" %Area)\n",
    "\n"
   ]
  },
  {
   "cell_type": "code",
   "execution_count": 5,
   "id": "fdc2fd3c-f1c3-4a7c-9810-bbc9fdcb4591",
   "metadata": {},
   "outputs": [
    {
     "name": "stdin",
     "output_type": "stream",
     "text": [
      "Enter the Temperature in Celsius :\n",
      " 21\n"
     ]
    },
    {
     "name": "stdout",
     "output_type": "stream",
     "text": [
      "Temperature in Fahrenheit : 69.80000000000001\n"
     ]
    }
   ],
   "source": [
    "celsius = int(input(\"Enter the Temperature in Celsius :\\n\"))\n",
    "fahrenheit = (1.8 * celsius) + 32\n",
    "print(\"Temperature in Fahrenheit :\", fahrenheit)"
   ]
  },
  {
   "cell_type": "code",
   "execution_count": 6,
   "id": "f4793d04-75d4-4d29-8926-bb23058a3296",
   "metadata": {},
   "outputs": [
    {
     "name": "stdout",
     "output_type": "stream",
     "text": [
      "7\n"
     ]
    }
   ],
   "source": [
    "# Python code to demonstrate string length \n",
    "# using len\n",
    " \n",
    "str = \"SUPRIYO\"\n",
    "print(len(str))"
   ]
  },
  {
   "cell_type": "code",
   "execution_count": 12,
   "id": "5c7cfca4-56e4-4488-bf22-5257ceb6ad51",
   "metadata": {},
   "outputs": [
    {
     "name": "stdout",
     "output_type": "stream",
     "text": [
      "3\n"
     ]
    }
   ],
   "source": [
    "#COUNT THE NUMBER OF VOWELS:\n",
    "string = \"ELEPHANT\"\n",
    "vowels = \"aeiouAEIOU\"\n",
    "\n",
    "count = sum(string.count(vowel) for vowel in vowels)\n",
    "print(count)"
   ]
  },
  {
   "cell_type": "code",
   "execution_count": 13,
   "id": "68aa8031-2829-4650-8465-0f1c458d22c7",
   "metadata": {},
   "outputs": [
    {
     "name": "stdout",
     "output_type": "stream",
     "text": [
      "The original string is : WELCOMETOKOLKATA\n",
      "The reversed string(using extended slice syntax) is : ATAKLOKOTEMOCLEW\n"
     ]
    }
   ],
   "source": [
    "# Function to reverse a string\n",
    "def reverse(string):\n",
    "\tstring = string[::-1]\n",
    "\treturn string\n",
    "\n",
    "s = \"WELCOMETOKOLKATA\"\n",
    "\n",
    "print(\"The original string is : \", end=\"\")\n",
    "print(s)\n",
    "\n",
    "print(\"The reversed string(using extended slice syntax) is : \", end=\"\")\n",
    "print(reverse(s))"
   ]
  },
  {
   "cell_type": "code",
   "execution_count": 14,
   "id": "0182036f-c30f-4a29-a4b5-607db65fe4f4",
   "metadata": {},
   "outputs": [
    {
     "name": "stdout",
     "output_type": "stream",
     "text": [
      "No\n"
     ]
    }
   ],
   "source": [
    "# function which return reverse of a string\n",
    "\n",
    "def isPalindrome(s):\n",
    "\treturn s == s[::-1]\n",
    "\n",
    "\n",
    "# Driver code\n",
    "s = \"bengali\"\n",
    "ans = isPalindrome(s)\n",
    "\n",
    "if ans:\n",
    "\tprint(\"Yes\")\n",
    "else:\n",
    "\tprint(\"No\")"
   ]
  },
  {
   "cell_type": "code",
   "execution_count": 15,
   "id": "4ff6602f-fa0c-4539-9431-515a059e6a9a",
   "metadata": {},
   "outputs": [
    {
     "name": "stdout",
     "output_type": "stream",
     "text": [
      "kolkataiscityofjoy\n"
     ]
    }
   ],
   "source": [
    "# Python3 code to remove whitespace\n",
    "def remove(string):\n",
    "\treturn string.replace(\" \", \"\")\n",
    "\n",
    "\n",
    "# Driver Program\n",
    "string = ' kolkata is city of joy '\n",
    "print(remove(string))"
   ]
  },
  {
   "cell_type": "code",
   "execution_count": null,
   "id": "dfc6ef9f-9ceb-4dd8-81dd-43edb1d20f4b",
   "metadata": {},
   "outputs": [],
   "source": []
  }
 ],
 "metadata": {
  "kernelspec": {
   "display_name": "Python 3 (ipykernel)",
   "language": "python",
   "name": "python3"
  },
  "language_info": {
   "codemirror_mode": {
    "name": "ipython",
    "version": 3
   },
   "file_extension": ".py",
   "mimetype": "text/x-python",
   "name": "python",
   "nbconvert_exporter": "python",
   "pygments_lexer": "ipython3",
   "version": "3.10.8"
  }
 },
 "nbformat": 4,
 "nbformat_minor": 5
}
